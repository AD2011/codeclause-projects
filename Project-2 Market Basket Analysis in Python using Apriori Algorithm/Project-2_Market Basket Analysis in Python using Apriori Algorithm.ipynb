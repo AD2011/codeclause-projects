{
 "cells": [
  {
   "attachments": {},
   "cell_type": "markdown",
   "id": "72122499",
   "metadata": {},
   "source": [
    "****Apriori Algorithm****"
   ]
  },
  {
   "attachments": {},
   "cell_type": "markdown",
   "id": "adf98d41",
   "metadata": {},
   "source": [
    "Submitted By: Abir Dey"
   ]
  },
  {
   "attachments": {},
   "cell_type": "markdown",
   "id": "ee01300c",
   "metadata": {},
   "source": [
    "Importing Libraries"
   ]
  },
  {
   "cell_type": "code",
   "execution_count": 1,
   "id": "78da2e0e",
   "metadata": {
    "execution": {
     "iopub.execute_input": "2022-07-29T23:21:25.835501Z",
     "iopub.status.busy": "2022-07-29T23:21:25.834948Z",
     "iopub.status.idle": "2022-07-29T23:21:25.854430Z",
     "shell.execute_reply": "2022-07-29T23:21:25.853336Z"
    },
    "papermill": {
     "duration": 0.039038,
     "end_time": "2022-07-29T23:21:25.857439",
     "exception": false,
     "start_time": "2022-07-29T23:21:25.818401",
     "status": "completed"
    },
    "tags": []
   },
   "outputs": [
    {
     "ename": "ModuleNotFoundError",
     "evalue": "No module named 'numpy'",
     "output_type": "error",
     "traceback": [
      "\u001b[1;31m---------------------------------------------------------------------------\u001b[0m",
      "\u001b[1;31mModuleNotFoundError\u001b[0m                       Traceback (most recent call last)",
      "Cell \u001b[1;32mIn[1], line 1\u001b[0m\n\u001b[1;32m----> 1\u001b[0m \u001b[39mimport\u001b[39;00m \u001b[39mnumpy\u001b[39;00m \u001b[39mas\u001b[39;00m \u001b[39mnp\u001b[39;00m\n\u001b[0;32m      2\u001b[0m \u001b[39mimport\u001b[39;00m \u001b[39mmatplotlib\u001b[39;00m\u001b[39m.\u001b[39;00m\u001b[39mpyplot\u001b[39;00m \u001b[39mas\u001b[39;00m \u001b[39mplt\u001b[39;00m\n\u001b[0;32m      3\u001b[0m \u001b[39mimport\u001b[39;00m \u001b[39mpandas\u001b[39;00m \u001b[39mas\u001b[39;00m \u001b[39mpd\u001b[39;00m\n",
      "\u001b[1;31mModuleNotFoundError\u001b[0m: No module named 'numpy'"
     ]
    }
   ],
   "source": [
    "import numpy as np\n",
    "import matplotlib.pyplot as plt\n",
    "import pandas as pd"
   ]
  },
  {
   "attachments": {},
   "cell_type": "markdown",
   "id": "c1cb5697",
   "metadata": {},
   "source": [
    "Import dataset and create a list of lists"
   ]
  },
  {
   "cell_type": "code",
   "execution_count": null,
   "id": "c46f6a9d",
   "metadata": {
    "execution": {
     "iopub.execute_input": "2022-07-29T23:21:25.952105Z",
     "iopub.status.busy": "2022-07-29T23:21:25.951256Z",
     "iopub.status.idle": "2022-07-29T23:21:26.787333Z",
     "shell.execute_reply": "2022-07-29T23:21:26.786242Z"
    },
    "papermill": {
     "duration": 0.851122,
     "end_time": "2022-07-29T23:21:26.789974",
     "exception": false,
     "start_time": "2022-07-29T23:21:25.938852",
     "status": "completed"
    },
    "tags": []
   },
   "outputs": [],
   "source": [
    "dataset = pd.read_csv(\"Market_Basket_Optimisation.csv\", header = None)\n",
    "transactions = []\n",
    "for i in range(0, 7501):\n",
    "    transactions.append([str(dataset.values[i,j]) for j in range(0,20)])"
   ]
  },
  {
   "attachments": {},
   "cell_type": "markdown",
   "id": "02f9ba5a",
   "metadata": {},
   "source": [
    "Dataset Information and shape"
   ]
  },
  {
   "cell_type": "code",
   "execution_count": null,
   "id": "ab710163",
   "metadata": {
    "execution": {
     "iopub.execute_input": "2022-07-29T23:21:26.836189Z",
     "iopub.status.busy": "2022-07-29T23:21:26.835863Z",
     "iopub.status.idle": "2022-07-29T23:21:26.866572Z",
     "shell.execute_reply": "2022-07-29T23:21:26.865711Z"
    },
    "papermill": {
     "duration": 0.045336,
     "end_time": "2022-07-29T23:21:26.869079",
     "exception": false,
     "start_time": "2022-07-29T23:21:26.823743",
     "status": "completed"
    },
    "tags": []
   },
   "outputs": [],
   "source": [
    "dataset"
   ]
  },
  {
   "cell_type": "code",
   "execution_count": null,
   "id": "a192ca73",
   "metadata": {
    "execution": {
     "iopub.execute_input": "2022-07-29T23:21:26.917615Z",
     "iopub.status.busy": "2022-07-29T23:21:26.917353Z",
     "iopub.status.idle": "2022-07-29T23:21:26.922963Z",
     "shell.execute_reply": "2022-07-29T23:21:26.922084Z"
    },
    "papermill": {
     "duration": 0.020308,
     "end_time": "2022-07-29T23:21:26.924888",
     "exception": false,
     "start_time": "2022-07-29T23:21:26.904580",
     "status": "completed"
    },
    "tags": []
   },
   "outputs": [],
   "source": [
    "dataset.shape"
   ]
  },
  {
   "attachments": {},
   "cell_type": "markdown",
   "id": "ab29c15a",
   "metadata": {},
   "source": [
    "Train Model"
   ]
  },
  {
   "cell_type": "code",
   "execution_count": null,
   "id": "af79d11b",
   "metadata": {
    "execution": {
     "iopub.execute_input": "2022-07-29T23:21:41.428466Z",
     "iopub.status.busy": "2022-07-29T23:21:41.427490Z",
     "iopub.status.idle": "2022-07-29T23:21:41.436399Z",
     "shell.execute_reply": "2022-07-29T23:21:41.435500Z"
    },
    "papermill": {
     "duration": 0.024317,
     "end_time": "2022-07-29T23:21:41.438289",
     "exception": false,
     "start_time": "2022-07-29T23:21:41.413972",
     "status": "completed"
    },
    "tags": []
   },
   "outputs": [],
   "source": [
    "from apyori import apriori\n",
    "rules = apriori(transactions = transactions, min_support = 0.003, min_cinfidence = 0.2, min_lift = 3, min_length = 2, max_length = 2)"
   ]
  },
  {
   "attachments": {},
   "cell_type": "markdown",
   "id": "beb5d687",
   "metadata": {},
   "source": [
    "Converting the results in to a list and displaying it"
   ]
  },
  {
   "cell_type": "code",
   "execution_count": null,
   "id": "978901b9",
   "metadata": {
    "execution": {
     "iopub.execute_input": "2022-07-29T23:21:41.490090Z",
     "iopub.status.busy": "2022-07-29T23:21:41.489277Z",
     "iopub.status.idle": "2022-07-29T23:21:41.694285Z",
     "shell.execute_reply": "2022-07-29T23:21:41.693319Z"
    },
    "papermill": {
     "duration": 0.220697,
     "end_time": "2022-07-29T23:21:41.696663",
     "exception": false,
     "start_time": "2022-07-29T23:21:41.475966",
     "status": "completed"
    },
    "tags": []
   },
   "outputs": [],
   "source": [
    "results = list(rules)"
   ]
  },
  {
   "cell_type": "code",
   "execution_count": null,
   "id": "2354e0c3",
   "metadata": {
    "execution": {
     "iopub.execute_input": "2022-07-29T23:21:41.747694Z",
     "iopub.status.busy": "2022-07-29T23:21:41.747349Z",
     "iopub.status.idle": "2022-07-29T23:21:41.753701Z",
     "shell.execute_reply": "2022-07-29T23:21:41.752766Z"
    },
    "papermill": {
     "duration": 0.021605,
     "end_time": "2022-07-29T23:21:41.755663",
     "exception": false,
     "start_time": "2022-07-29T23:21:41.734058",
     "status": "completed"
    },
    "tags": []
   },
   "outputs": [],
   "source": [
    "results"
   ]
  },
  {
   "cell_type": "code",
   "execution_count": null,
   "id": "3a094b6d",
   "metadata": {
    "execution": {
     "iopub.execute_input": "2022-07-29T23:21:41.831894Z",
     "iopub.status.busy": "2022-07-29T23:21:41.831597Z",
     "iopub.status.idle": "2022-07-29T23:21:41.839985Z",
     "shell.execute_reply": "2022-07-29T23:21:41.839092Z"
    },
    "papermill": {
     "duration": 0.023819,
     "end_time": "2022-07-29T23:21:41.841786",
     "exception": false,
     "start_time": "2022-07-29T23:21:41.817967",
     "status": "completed"
    },
    "tags": []
   },
   "outputs": [],
   "source": [
    "def inspect(results):\n",
    "    lhs         =[tuple(result[2][0][0])[0] for result in results]\n",
    "    rhs         =[tuple(result[2][0][1])[0] for result in results]\n",
    "    supports    =[result[1] for result in results]\n",
    "    confidences =[result[2][0][2] for result in results]\n",
    "    lifts        =[result[2][0][3] for result in results]\n",
    "    return list (zip(lhs, rhs, supports, confidences, lifts))\n",
    "resultsinDataFrame = pd.DataFrame(inspect(results), columns = [\"Left hand side\", \"Right hand side\", \"Support\", \"Confidence\", \"Lift\"])"
   ]
  },
  {
   "cell_type": "code",
   "execution_count": null,
   "id": "c038cdae",
   "metadata": {
    "execution": {
     "iopub.execute_input": "2022-07-29T23:21:41.894182Z",
     "iopub.status.busy": "2022-07-29T23:21:41.893565Z",
     "iopub.status.idle": "2022-07-29T23:21:41.907563Z",
     "shell.execute_reply": "2022-07-29T23:21:41.906412Z"
    },
    "papermill": {
     "duration": 0.029952,
     "end_time": "2022-07-29T23:21:41.909551",
     "exception": false,
     "start_time": "2022-07-29T23:21:41.879599",
     "status": "completed"
    },
    "tags": []
   },
   "outputs": [],
   "source": [
    "resultsinDataFrame"
   ]
  },
  {
   "attachments": {},
   "cell_type": "markdown",
   "id": "d2fec51f",
   "metadata": {},
   "source": [
    "Sorting the final outputs in the descending order of lifts:"
   ]
  },
  {
   "cell_type": "code",
   "execution_count": null,
   "id": "b7b081a5",
   "metadata": {
    "execution": {
     "iopub.execute_input": "2022-07-29T23:21:41.963213Z",
     "iopub.status.busy": "2022-07-29T23:21:41.962429Z",
     "iopub.status.idle": "2022-07-29T23:21:41.984058Z",
     "shell.execute_reply": "2022-07-29T23:21:41.983092Z"
    },
    "papermill": {
     "duration": 0.037417,
     "end_time": "2022-07-29T23:21:41.986216",
     "exception": false,
     "start_time": "2022-07-29T23:21:41.948799",
     "status": "completed"
    },
    "tags": []
   },
   "outputs": [],
   "source": [
    "resultsinDataFrame.nlargest(n = 10, columns = \"Lift\")"
   ]
  },
  {
   "attachments": {},
   "cell_type": "markdown",
   "id": "14f86328",
   "metadata": {},
   "source": [
    "**From the results it is clear that the store should prioritize on the pair of items with greater Lift values to maximize thier sales**"
   ]
  }
 ],
 "metadata": {
  "kernelspec": {
   "display_name": "Python 3",
   "language": "python",
   "name": "python3"
  },
  "language_info": {
   "codemirror_mode": {
    "name": "ipython",
    "version": 3
   },
   "file_extension": ".py",
   "mimetype": "text/x-python",
   "name": "python",
   "nbconvert_exporter": "python",
   "pygments_lexer": "ipython3",
   "version": "3.10.10"
  },
  "papermill": {
   "default_parameters": {},
   "duration": 25.681495,
   "end_time": "2022-07-29T23:21:42.727846",
   "environment_variables": {},
   "exception": null,
   "input_path": "__notebook__.ipynb",
   "output_path": "__notebook__.ipynb",
   "parameters": {},
   "start_time": "2022-07-29T23:21:17.046351",
   "version": "2.3.4"
  }
 },
 "nbformat": 4,
 "nbformat_minor": 5
}
